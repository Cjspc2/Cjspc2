{
  "nbformat": 4,
  "nbformat_minor": 0,
  "metadata": {
    "colab": {
      "name": "Leetcode(2).ipynb",
      "provenance": []
    },
    "kernelspec": {
      "name": "python3",
      "display_name": "Python 3"
    },
    "language_info": {
      "name": "python"
    }
  },
  "cells": [
    {
      "cell_type": "code",
      "metadata": {
        "id": "iuteHhyVP4dL"
      },
      "source": [
        "# Definition for singly-linked list.\n",
        "# class ListNode(object):\n",
        "#     def __init__(self, val=0, next=None):\n",
        "#         self.val = val\n",
        "#         self.next = next\n",
        "def addTwoNumbers(l1, l2):\n",
        "  sum = []\n",
        "  carry = 0\n",
        "  c = 0\n",
        "  if l1 == [0] and l2 ==[0]:\n",
        "    sum = [0]\n",
        "    return sum\n",
        "  for i in l1:\n",
        "    if c >= len(l2):\n",
        "      if carry != 0:\n",
        "        if i + carry >= 10:\n",
        "          sum.append((i+carry)%10)\n",
        "        if i + carry < 10:\n",
        "          sum.append(i+carry)\n",
        "          carry = 0\n",
        "    elif carry!= 0:\n",
        "      if i+l2[c] + carry >= 10:\n",
        "        sum.append((i + l2[c] + carry) % 10)\n",
        "      if i+l2[c] + carry < 10:\n",
        "        sum.append(i+l2[c]+carry)\n",
        "        carry = 0\n",
        "    elif carry == 0:\n",
        "      if i+l2[c] >= 10:\n",
        "        sum.append((i+l2[c])%10)\n",
        "        carry = 1\n",
        "      if i+l2[c] < 10:\n",
        "        sum.append(i+l2[c]+carry)\n",
        "    c = c + 1\n",
        "  if c == len(l1) and c <= len(l2):\n",
        "    for i in range[c:len(l2)-1]:\n",
        "      if carry != 0:\n",
        "        if carry + l2[c] >= 10:\n",
        "          sum.append((l2[c]+carry)%10)\n",
        "        if carry + l2[c] < 10:\n",
        "          sum.append(l2[c]+carry)\n",
        "          carry = 0\n",
        "      c = c + 1\n",
        "  if carry != 0:\n",
        "    sum.append(carry)\n",
        "  return(sum)\n",
        "    \n",
        "\n",
        "\n",
        "\n"
      ],
      "execution_count": null,
      "outputs": []
    },
    {
      "cell_type": "code",
      "metadata": {
        "colab": {
          "base_uri": "https://localhost:8080/"
        },
        "id": "g1QhZxahXA5j",
        "outputId": "355a1057-1c55-471e-c441-32236d5eb946"
      },
      "source": [
        "t1 = [0]\n",
        "t2 = [0]\n",
        "addTwoNumbers(t1,t2)"
      ],
      "execution_count": null,
      "outputs": [
        {
          "output_type": "execute_result",
          "data": {
            "text/plain": [
              "[0]"
            ]
          },
          "metadata": {},
          "execution_count": 15
        }
      ]
    }
  ]
}