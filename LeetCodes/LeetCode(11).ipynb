{
  "nbformat": 4,
  "nbformat_minor": 0,
  "metadata": {
    "colab": {
      "name": "LeetCode(11).ipynb",
      "provenance": []
    },
    "kernelspec": {
      "name": "python3",
      "display_name": "Python 3"
    },
    "language_info": {
      "name": "python"
    }
  },
  "cells": [
    {
      "cell_type": "code",
      "metadata": {
        "id": "hRHO_xoLFKqr"
      },
      "source": [
        "height = [1,2,3,4,5]\n",
        "def maxArea(height):\n",
        "  \"\"\"\n",
        "  :type height: List[int]\n",
        "  :rtype: int\n",
        "  \"\"\"\n",
        "  CurArea = 0\n",
        "  LH = height[0]\n",
        "  LI = 0\n",
        "  RH = height[-1]\n",
        "  RI = -1\n",
        "  Note = 1\n",
        "  MaxArea = min(RH,LH) * (len(height)-Note)\n",
        "\n",
        "  for i in range(1,len(height)): \n",
        "    if RH >= LH:\n",
        "      LH = height[LI+1]\n",
        "      LI = LI + 1\n",
        "      Note = Note + 1\n",
        "      CurArea = min(LH,RH) * (len(height)-Note)\n",
        "      if CurArea > MaxArea:\n",
        "        MaxArea = CurArea\n",
        "    else:\n",
        "      RH = height[RI-1]\n",
        "      RI = RI - 1\n",
        "      Note = Note + 1\n",
        "      CurArea = min(LH,RH) * (len(height)-Note)\n",
        "      if CurArea > MaxArea:\n",
        "        MaxArea = CurArea\n",
        "  return MaxArea\n",
        "\n",
        "\n",
        "    "
      ],
      "execution_count": null,
      "outputs": []
    },
    {
      "cell_type": "code",
      "metadata": {
        "colab": {
          "base_uri": "https://localhost:8080/"
        },
        "id": "8fQr0mZ0Npuk",
        "outputId": "d7dfc1ad-9f2b-4ae4-9e56-87a487a7416a"
      },
      "source": [
        "h = [1,2,1]\n",
        "maxArea(h)"
      ],
      "execution_count": null,
      "outputs": [
        {
          "output_type": "execute_result",
          "data": {
            "text/plain": [
              "2"
            ]
          },
          "metadata": {},
          "execution_count": 18
        }
      ]
    }
  ]
}