{
  "nbformat": 4,
  "nbformat_minor": 0,
  "metadata": {
    "colab": {
      "name": "Leetcode(4).ipynb",
      "provenance": []
    },
    "kernelspec": {
      "name": "python3",
      "display_name": "Python 3"
    },
    "language_info": {
      "name": "python"
    }
  },
  "cells": [
    {
      "cell_type": "code",
      "metadata": {
        "id": "3RJ6vY73rOYE"
      },
      "source": [
        "\n",
        "def findMedianSortedArrays(nums1, nums2):\n",
        "        \"\"\"\n",
        "        :type nums1: List[int]\n",
        "        :type nums2: List[int]\n",
        "        :rtype: float\n",
        "        \"\"\"\n",
        "\n",
        "        if nums1 == []:\n",
        "          if len(nums2) % 2 == 0:\n",
        "            return (nums2[len(nums2)//2] + nums2[len(nums2)//2 + 1])/2\n",
        "          else:\n",
        "            return nums2[len(nums2)//2]\n",
        "        if nums2 == []:\n",
        "          if len(nums1) % 2 == 0:\n",
        "            return (nums1[len(nums1)//2] + nums1[len(nums1)//2 + 1])/2\n",
        "          else:\n",
        "            return nums1[len(nums1)//2]\n",
        "        if nums2 == [] and nums1 == []:\n",
        "          return 0\n",
        "\n",
        "\n",
        "        if len(nums1) > len(nums2):\n",
        "          temp = nums1\n",
        "          nums1 = nums2\n",
        "          nums2 = temp\n",
        "\n",
        "        #force one run\n",
        "        LP = [1,2,3]\n",
        "        RP = [2,3,4]\n",
        "\n",
        "        Note = 0\n",
        "        while RP[0] < LP[-1]:\n",
        "          MergedArrayLength = len(nums1) + len(nums2)\n",
        "          Mid = MergedArrayLength//2\n",
        "          LP = nums1[0:len(nums1)//2+Note] + nums2[0:len(nums2) - (len(nums2)-len(nums1)//2+Note-1)]\n",
        "          RP = nums1[len(nums1)//2+Note:] + nums2[len(nums2) - (len(nums2)-len(nums1)//2+Note)+1:]\n",
        "          Note = Note + 1\n",
        "          print(LP)\n",
        "          print(RP)\n",
        "\n",
        "        #if len(LP) > Mid\n",
        "        if MergedArrayLength % 2 == 0:\n",
        "          if len(LP)>Mid:\n",
        "            medium = (LP[-2] + LP[-1])/2\n",
        "          else:\n",
        "            medium = (RP[0] + LP[-1])/2\n",
        "        else:\n",
        "          medium = RP[0]\n",
        "          \n",
        "        return medium"
      ],
      "execution_count": null,
      "outputs": []
    },
    {
      "cell_type": "code",
      "metadata": {
        "colab": {
          "base_uri": "https://localhost:8080/"
        },
        "id": "UOLwe1MpxD7E",
        "outputId": "74cd3e01-ad18-4160-ce7a-56ab86041b9d"
      },
      "source": [
        "nums1 = [1,2,3]\n",
        "nums2 = [4,5,6,7]\n",
        "findMedianSortedArrays(nums1, nums2)\n"
      ],
      "execution_count": null,
      "outputs": [
        {
          "output_type": "stream",
          "name": "stdout",
          "text": [
            "[1, 4, 5]\n",
            "[2, 3, 6, 7]\n",
            "[1, 2, 4]\n",
            "[3, 5, 6, 7]\n",
            "[1, 2, 3]\n",
            "[4, 5, 6, 7]\n"
          ]
        },
        {
          "output_type": "execute_result",
          "data": {
            "text/plain": [
              "4"
            ]
          },
          "metadata": {},
          "execution_count": 79
        }
      ]
    },
    {
      "cell_type": "code",
      "metadata": {
        "colab": {
          "base_uri": "https://localhost:8080/"
        },
        "id": "KqxO5WNb7H5p",
        "outputId": "0e8322f1-6147-4fdd-e625-f1157d8cdab4"
      },
      "source": [
        "nums1 = [1,2]\n",
        "nums2 = [3,4]\n",
        "findMedianSortedArrays(nums1, nums2)\n"
      ],
      "execution_count": null,
      "outputs": [
        {
          "output_type": "stream",
          "name": "stdout",
          "text": [
            "[1, 3, 4]\n",
            "[2]\n",
            "[1, 2, 3]\n",
            "[4]\n"
          ]
        },
        {
          "output_type": "execute_result",
          "data": {
            "text/plain": [
              "2.5"
            ]
          },
          "metadata": {},
          "execution_count": 98
        }
      ]
    }
  ]
}