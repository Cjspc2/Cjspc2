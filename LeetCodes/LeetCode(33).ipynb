{
  "nbformat": 4,
  "nbformat_minor": 0,
  "metadata": {
    "colab": {
      "name": "LeetCode(33).ipynb",
      "provenance": []
    },
    "kernelspec": {
      "name": "python3",
      "display_name": "Python 3"
    },
    "language_info": {
      "name": "python"
    }
  },
  "cells": [
    {
      "cell_type": "code",
      "metadata": {
        "id": "o4tIF_sP8B4R"
      },
      "source": [
        "\"\"\" O(N*log(N))\n",
        "\n",
        "def search(nums, target):\n",
        "  \"\"\"\n",
        "  :type nums: List[int]\n",
        "  :type target: int\n",
        "  :rtype: int\n",
        "  \"\"\"\n",
        "\n",
        "  prev = nums[0]\n",
        "  for i in range(1,len(nums)):\n",
        "    if prev < i:\n",
        "      point = i\n",
        "      Fnums = nums[i-1:] + nums[:i-1]\n",
        "      break\n",
        "  mid = len(nums)//2\n",
        "  while Fnums[mid] != target:\n",
        "    if Fnums[mid] > target:\n",
        "      mid = mid // 2\n",
        "    if Fnums[mid] < target:\n",
        "      mid = mid+len(nums) // 2\n",
        "  print(Fnums)\n",
        "  return mid\n",
        "    "
      ],
      "execution_count": null,
      "outputs": []
    },
    {
      "cell_type": "code",
      "metadata": {
        "id": "qWdDgaFqCO7w"
      },
      "source": [
        "\"\"\" O(logN)^2\n",
        "def search(nums, target):\n",
        "  \"\"\"\n",
        "  :type nums: List[int]\n",
        "  :type target: int\n",
        "  :rtype: int\n",
        "  \"\"\"\n",
        "\n",
        "  mid = len(nums)//2\n",
        "  prev = nums[0]\n",
        "  i = 1\n",
        "  while nums[mid] != target:\n",
        "    if nums[mid] > target:\n",
        "      mid = mid // 2\n",
        "    if nums[mid] < target:\n",
        "      mid = mid+len(nums) // 2 \n",
        "    if mid == 0:\n",
        "      mid = len(nums)//2 + i\n",
        "      i = i+1\n",
        "\n",
        "    \n",
        "\n",
        "\n",
        "  "
      ],
      "execution_count": null,
      "outputs": []
    },
    {
      "cell_type": "code",
      "metadata": {
        "id": "VQwaarHoGFdN"
      },
      "source": [
        "\n",
        "def search(nums, target):\n",
        "  \"\"\"\n",
        "  :type nums: List[int]\n",
        "  :type target: int\n",
        "  :rtype: int\n",
        "  \"\"\"\n",
        "\n",
        "  mid = len(nums)//2\n",
        "  prev = nums[0]\n",
        "  i = 1\n",
        "  alt = nums[:]\n",
        "  m2 = len(nums)//2 + len(nums)//4\n",
        "  while nums[mid] != target and alt == nums:\n",
        "    if nums[mid] > target:\n",
        "      mid = mid // 2\n",
        "    if nums[mid] < target:\n",
        "      mid = mid+len(nums) // 2 \n",
        "    if mid == 0 or :\n",
        "      alt = nums[len(nums)+1:]\n",
        "  \n",
        "  while alt[mid] != target:\n",
        "\n",
        "\n",
        "      "
      ],
      "execution_count": null,
      "outputs": []
    },
    {
      "cell_type": "code",
      "metadata": {
        "id": "WMQMqo1MIQeU"
      },
      "source": [
        ""
      ],
      "execution_count": null,
      "outputs": []
    },
    {
      "cell_type": "code",
      "metadata": {
        "colab": {
          "base_uri": "https://localhost:8080/"
        },
        "id": "3cHYwxFw_0EK",
        "outputId": "62f20402-c85d-43e7-8afa-258024c45eaf"
      },
      "source": [
        "n = [4,5,6,7,8,9,0,1,2]\n",
        "t = 0\n",
        "search(n,t)"
      ],
      "execution_count": null,
      "outputs": [
        {
          "output_type": "stream",
          "name": "stdout",
          "text": [
            "[0, 1, 2, 4, 5, 6, 7]\n"
          ]
        },
        {
          "output_type": "execute_result",
          "data": {
            "text/plain": [
              "0"
            ]
          },
          "metadata": {},
          "execution_count": 27
        }
      ]
    },
    {
      "cell_type": "code",
      "metadata": {
        "colab": {
          "base_uri": "https://localhost:8080/"
        },
        "id": "URb-man3BBg9",
        "outputId": "1cf64f37-6998-426d-aaca-72ad0fb818d5"
      },
      "source": [
        "1//2"
      ],
      "execution_count": null,
      "outputs": [
        {
          "output_type": "execute_result",
          "data": {
            "text/plain": [
              "0"
            ]
          },
          "metadata": {},
          "execution_count": 14
        }
      ]
    }
  ]
}