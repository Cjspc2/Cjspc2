{
  "nbformat": 4,
  "nbformat_minor": 0,
  "metadata": {
    "colab": {
      "name": "LeetCode(3).ipynb",
      "provenance": []
    },
    "kernelspec": {
      "name": "python3",
      "display_name": "Python 3"
    },
    "language_info": {
      "name": "python"
    }
  },
  "cells": [
    {
      "cell_type": "code",
      "metadata": {
        "id": "bOlIMR4zLBk2"
      },
      "source": [
        "'''\n",
        "def lengthOfLongestSubstring(s):\n",
        "  \"\"\"\n",
        "  :type s: str\n",
        "  :rtype: int\n",
        "  \"\"\"\n",
        "\n",
        "\n",
        "\n",
        "  Max = 1\n",
        "  sub = ''\n",
        "  for i in s:\n",
        "    if i in sub:\n",
        "      if Max < len(sub):\n",
        "        Max = len(sub)\n",
        "        sub = ''\n",
        "      else:\n",
        "        sub = ''\n",
        "        sub = sub + i\n",
        "    else:\n",
        "      sub = sub + i\n",
        "  if Max < len(sub):\n",
        "    Max = len(sub)\n",
        "  return Max\n",
        "\n"
      ],
      "execution_count": null,
      "outputs": []
    },
    {
      "cell_type": "code",
      "metadata": {
        "id": "G4OOeYsoPULR"
      },
      "source": [
        "def lengthOfLongestSubstring(s):\n",
        "  \"\"\"\n",
        "  :type s: str\n",
        "  :rtype: int\n",
        "  \"\"\"\n",
        "  test = ''\n",
        "  Max = 0\n",
        "  for i in range(0,len(s)-1):\n",
        "    sub = ''\n",
        "    for j in range(i,len(s)-1):\n",
        "      if s[j] in sub:\n",
        "        if Max < len(sub):\n",
        "          Max = len(sub)\n",
        "          test = sub\n",
        "          sub = s[j]\n",
        "        else:\n",
        "          sub = s[j]\n",
        "      if s[j] not in sub:\n",
        "        sub = sub + s[j]\n",
        "      if Max < len(sub):\n",
        "        Max = len(sub)\n",
        "        test = sub\n",
        "  print(Max,sub)\n",
        "      \n",
        "      \n",
        "\n",
        "      "
      ],
      "execution_count": null,
      "outputs": []
    },
    {
      "cell_type": "code",
      "metadata": {
        "colab": {
          "base_uri": "https://localhost:8080/"
        },
        "id": "YYglWH2tMdJl",
        "outputId": "d39e2108-c70b-410a-e252-437202b3edb8"
      },
      "source": [
        "s = \"dvdf\"\n",
        "lengthOfLongestSubstring(s)"
      ],
      "execution_count": null,
      "outputs": [
        {
          "output_type": "stream",
          "name": "stdout",
          "text": [
            "2 d\n"
          ]
        }
      ]
    }
  ]
}