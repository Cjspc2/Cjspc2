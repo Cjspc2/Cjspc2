{
  "nbformat": 4,
  "nbformat_minor": 0,
  "metadata": {
    "colab": {
      "name": "LeetCode(15).ipynb",
      "provenance": []
    },
    "kernelspec": {
      "name": "python3",
      "display_name": "Python 3"
    },
    "language_info": {
      "name": "python"
    }
  },
  "cells": [
    {
      "cell_type": "code",
      "metadata": {
        "id": "wKkcMWbtOlNx"
      },
      "source": [
        "def threeSum(nums):\n",
        "  \"\"\"\n",
        "  :type nums: List[int]\n",
        "  :rtype: List[List[int]]\n",
        "  \"\"\"\n",
        "  r = []\n",
        "\n",
        "  if len(nums) <= 2:\n",
        "    return r\n",
        "  else:\n",
        "    compare = nums[:]\n",
        "    compare.sort()\n",
        "    compare.reverse()\n",
        "    for i in range(0,len(compare)):\n",
        "      if compare[i] < 0:\n",
        "        break\n",
        "      else:\n",
        "        check = 1\n",
        "        for j in range(-compare[i],1):\n",
        "          check = check - 1\n",
        "          if -j > compare[i] / 2:\n",
        "            if j in nums and -check in nums:\n",
        "              r.append([compare[i],j,-check])\n",
        "          elif -j == compare[i] / 2 and j in compare and j !=0:\n",
        "            halves = nums[0:]\n",
        "            halves = list(filter((j).__ne__, halves))\n",
        "            if len(halves) + 2 <= len(compare):\n",
        "              r.append([compare[i],j,j])\n",
        "            else:\n",
        "              break\n",
        "          elif j == 0:\n",
        "            halves = nums[:]\n",
        "            halves = list(filter((j).__ne__, halves))\n",
        "            if len(halves) + 3 <= len(compare):\n",
        "              r.append([0,0,0,])\n",
        "            else:\n",
        "              break\n",
        "          else:\n",
        "            break\n",
        "  return r\n",
        "\n",
        "\n",
        "\n",
        "\n"
      ],
      "execution_count": null,
      "outputs": []
    },
    {
      "cell_type": "code",
      "metadata": {
        "colab": {
          "base_uri": "https://localhost:8080/"
        },
        "id": "lxLrOQxtcNjx",
        "outputId": "106b1737-79e9-4abb-c9a0-d24acdecb583"
      },
      "source": [
        "n = [-1,0,1,2,-1,-4]\n",
        "threeSum(n)"
      ],
      "execution_count": null,
      "outputs": [
        {
          "output_type": "execute_result",
          "data": {
            "text/plain": [
              "[[2, -1, -1], [1, -1, 0]]"
            ]
          },
          "metadata": {},
          "execution_count": 152
        }
      ]
    },
    {
      "cell_type": "code",
      "metadata": {
        "colab": {
          "base_uri": "https://localhost:8080/"
        },
        "id": "TXBQm68Pc50Q",
        "outputId": "26f44057-8cea-4e2b-ac54-653c102aed34"
      },
      "source": [
        "nu = n \n",
        "print(nu)\n",
        "n.remove(-1)\n",
        "print(nu)"
      ],
      "execution_count": null,
      "outputs": [
        {
          "output_type": "stream",
          "name": "stdout",
          "text": [
            "[-4, -1, -1, 0, 1, 2]\n",
            "[-4, -1, 0, 1, 2]\n"
          ]
        }
      ]
    }
  ]
}